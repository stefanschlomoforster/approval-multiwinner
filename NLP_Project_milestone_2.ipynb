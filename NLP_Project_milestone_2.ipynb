{
  "nbformat": 4,
  "nbformat_minor": 0,
  "metadata": {
    "colab": {
      "name": "NLP - Project - milestone 2.ipynb",
      "provenance": [],
      "collapsed_sections": [],
      "include_colab_link": true
    },
    "kernelspec": {
      "name": "python3",
      "display_name": "Python 3"
    },
    "language_info": {
      "name": "python"
    },
    "accelerator": "GPU"
  },
  "cells": [
    {
      "cell_type": "markdown",
      "metadata": {
        "id": "view-in-github",
        "colab_type": "text"
      },
      "source": [
        "<a href=\"https://colab.research.google.com/github/stefanschlomoforster/approval-multiwinner/blob/master/NLP_Project_milestone_2.ipynb\" target=\"_parent\"><img src=\"https://colab.research.google.com/assets/colab-badge.svg\" alt=\"Open In Colab\"/></a>"
      ]
    },
    {
      "cell_type": "markdown",
      "metadata": {
        "id": "EsSbxq4IXtbW"
      },
      "source": [
        "# Milestone 2: Deep Learning"
      ]
    },
    {
      "cell_type": "code",
      "metadata": {
        "id": "yMkHQ7gCVa-w"
      },
      "source": [
        ""
      ],
      "execution_count": null,
      "outputs": []
    },
    {
      "cell_type": "markdown",
      "metadata": {
        "id": "jKmvjn9bY8Y-"
      },
      "source": [
        "Hallo test"
      ]
    },
    {
      "cell_type": "markdown",
      "metadata": {
        "id": "byrPIzhZZGoI"
      },
      "source": [
        ""
      ]
    }
  ]
}